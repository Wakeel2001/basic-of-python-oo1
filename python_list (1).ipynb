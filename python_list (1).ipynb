{
  "nbformat": 4,
  "nbformat_minor": 0,
  "metadata": {
    "colab": {
      "provenance": []
    },
    "kernelspec": {
      "name": "python3",
      "display_name": "Python 3"
    },
    "language_info": {
      "name": "python"
    }
  },
  "cells": [
    {
      "cell_type": "code",
      "execution_count": null,
      "metadata": {
        "id": "_kf_qOgr_PHW"
      },
      "outputs": [],
      "source": []
    },
    {
      "cell_type": "markdown",
      "source": [
        "# Pytho List\n",
        "- In Python, lists allow us to store multiple items in a single variable. For example, if you need to store the ages of all the students in a class, you can do this task using a list.\n",
        "- Lists are similar to arrays (dynamic arrays that allow us to store items of different data types) in other programming languages.\n",
        "# Create a Python List\n",
        "We create a list by placing elements inside square brackets [], separated by commas. For example,\n"
      ],
      "metadata": {
        "id": "eQBzb0VMCpj1"
      }
    },
    {
      "cell_type": "code",
      "source": [
        "# list of integer value\n",
        "A=[4,5,6,7,8,9]\n",
        "print(A)\n",
        "type(A)\n"
      ],
      "metadata": {
        "colab": {
          "base_uri": "https://localhost:8080/"
        },
        "id": "MGl7oDN1DXTO",
        "outputId": "951fae32-67ae-439e-e137-2c1b305b23b2"
      },
      "execution_count": 11,
      "outputs": [
        {
          "output_type": "stream",
          "name": "stdout",
          "text": [
            "[4, 5, 6, 7, 8, 9]\n"
          ]
        },
        {
          "output_type": "execute_result",
          "data": {
            "text/plain": [
              "list"
            ]
          },
          "metadata": {},
          "execution_count": 11
        }
      ]
    },
    {
      "cell_type": "code",
      "source": [
        "# list of float value\n",
        "B= [5.6,2.6,3.4,4.2]\n",
        "print(B)\n",
        "type(B)"
      ],
      "metadata": {
        "colab": {
          "base_uri": "https://localhost:8080/"
        },
        "id": "9idPsYktEA7J",
        "outputId": "e36c0448-55e5-4dba-af31-febe08c7d618"
      },
      "execution_count": 8,
      "outputs": [
        {
          "output_type": "stream",
          "name": "stdout",
          "text": [
            "[5.6, 2.6, 3.4, 4.2]\n"
          ]
        },
        {
          "output_type": "execute_result",
          "data": {
            "text/plain": [
              "list"
            ]
          },
          "metadata": {},
          "execution_count": 8
        }
      ]
    },
    {
      "cell_type": "code",
      "source": [
        "#list of string value\n",
        "C=['APPLE','BANANA','CHERRY']\n",
        "print(C)\n",
        "type(C)"
      ],
      "metadata": {
        "colab": {
          "base_uri": "https://localhost:8080/"
        },
        "id": "GS1a8we7E1r3",
        "outputId": "f98b6fec-965b-4f35-bc59-96624a06552a"
      },
      "execution_count": 13,
      "outputs": [
        {
          "output_type": "stream",
          "name": "stdout",
          "text": [
            "['APPLE', 'BANANA', 'CHERRY']\n"
          ]
        },
        {
          "output_type": "execute_result",
          "data": {
            "text/plain": [
              "list"
            ]
          },
          "metadata": {},
          "execution_count": 13
        }
      ]
    },
    {
      "cell_type": "code",
      "source": [
        "# list mutable value\n",
        "D=[7,3,12,'True',3+5j,'teks']\n",
        "print(D)"
      ],
      "metadata": {
        "colab": {
          "base_uri": "https://localhost:8080/"
        },
        "id": "ck5YZ6BEGJdW",
        "outputId": "5be2ba97-121c-4913-d421-6389d893ccec"
      },
      "execution_count": 16,
      "outputs": [
        {
          "output_type": "stream",
          "name": "stdout",
          "text": [
            "[7, 3, 12, 'True', (3+5j), 'teks']\n"
          ]
        }
      ]
    },
    {
      "cell_type": "code",
      "source": [
        "type(A)\n",
        "type(B)\n",
        "type(C)\n",
        "type(D)"
      ],
      "metadata": {
        "colab": {
          "base_uri": "https://localhost:8080/"
        },
        "id": "qO8-5WamG00X",
        "outputId": "58077aff-0497-46cb-c228-5baf93c1cdff"
      },
      "execution_count": 19,
      "outputs": [
        {
          "output_type": "execute_result",
          "data": {
            "text/plain": [
              "list"
            ]
          },
          "metadata": {},
          "execution_count": 19
        }
      ]
    },
    {
      "cell_type": "markdown",
      "source": [],
      "metadata": {
        "id": "cWEK1kZJHs9j"
      }
    },
    {
      "cell_type": "markdown",
      "source": [
        "# List Characteristics\n",
        "In Python, lists are:\n",
        "\n",
        "- Ordered - They maintain the order of elements.\n",
        "- Mutable - Items can be changed after creation.\n",
        "- Allow duplicates - They can contain duplicate values.\n",
        "\n",
        "# Access List Elements\n",
        "- Each element in a list is associated with a number, known as an index.\n",
        "- The index of first item is 0, the index of second item is 1, and so on.\n",
        "\n",
        "\n",
        "# Index of list Element\n",
        "- list-->['Mango','Orange','Banana']\n",
        "- Index-->  0        1        2\n",
        "- we use these indices to access items of a list\n",
        "- Index 2 types\n",
        "- +Ve [0 to ထ] Left to Right\n",
        "- -ve [-1 to -ထ] Right to Left"
      ],
      "metadata": {
        "id": "Z9PL-RVmHuqC"
      }
    },
    {
      "cell_type": "code",
      "source": [
        "# Example +ve index\n",
        "Ages = [10,20,30,40,50,60,70,80,90]\n",
        "Ages[2]\n"
      ],
      "metadata": {
        "colab": {
          "base_uri": "https://localhost:8080/"
        },
        "id": "WPL4Ub9lI92E",
        "outputId": "7f774c22-cb4b-4de3-a11d-88ba441c5556"
      },
      "execution_count": 20,
      "outputs": [
        {
          "output_type": "execute_result",
          "data": {
            "text/plain": [
              "30"
            ]
          },
          "metadata": {},
          "execution_count": 20
        }
      ]
    },
    {
      "cell_type": "markdown",
      "source": [
        "# Negative Index\n",
        "- In Python, a list can also have negative index.\n",
        "- The index of the last element is -1, the second last element is -2 and so on.\n"
      ],
      "metadata": {
        "id": "BpfhYuujJSsM"
      }
    },
    {
      "cell_type": "code",
      "source": [
        "# Example of -ve Index\n",
        "Ages = [10,20,30,40,50,60,70,80,90]\n",
        "Ages[-5]"
      ],
      "metadata": {
        "colab": {
          "base_uri": "https://localhost:8080/"
        },
        "id": "XUoCbBkwJUmD",
        "outputId": "9ea820c3-d838-4659-eedb-78b823857e23"
      },
      "execution_count": 22,
      "outputs": [
        {
          "output_type": "execute_result",
          "data": {
            "text/plain": [
              "50"
            ]
          },
          "metadata": {},
          "execution_count": 22
        }
      ]
    },
    {
      "cell_type": "markdown",
      "source": [
        "# Slicing of a List in Python\n",
        "If we need to access a portion of a list, we can use the slicing operator, :.\n",
        "\n",
        "[ starting Index:ending index]\n",
        "           \n",
        "          ending index is n-1"
      ],
      "metadata": {
        "id": "qKmLwGeVJ_mQ"
      }
    },
    {
      "cell_type": "code",
      "source": [
        "# Example\n",
        "vowel= ['a', 'e', 'i', 'o', 'u']\n",
        "print(\"vowel =\",vowel )\n",
        "\n",
        "# get a list with items from index 2 to index 3 (index 4 is not included)\n",
        "print(\"vowel[2: 3] =\", vowel[2: 3])\n",
        "\n",
        "# get a list with items from index 2 to index -3 (index -2 is not included)\n",
        "print(\"vowel[2: -2] =\", vowel[2: -2])"
      ],
      "metadata": {
        "colab": {
          "base_uri": "https://localhost:8080/"
        },
        "id": "5mEfS1H2K1pl",
        "outputId": "b5c47d5f-145b-43d9-ce27-15dddf967c2e"
      },
      "execution_count": 27,
      "outputs": [
        {
          "output_type": "stream",
          "name": "stdout",
          "text": [
            "vowel = ['a', 'e', 'i', 'o', 'u']\n",
            "vowel[2: 3] = ['i']\n",
            "vowel[2: -2] = ['i']\n"
          ]
        }
      ]
    },
    {
      "cell_type": "markdown",
      "source": [
        "# Python list method\n",
        "\n",
        "### 1.Append()\n",
        "- The append() method in Python is used to add a single item to the end of list. This method modifies the original list and does not return a new list."
      ],
      "metadata": {
        "id": "PfBJ_LklL-WC"
      }
    },
    {
      "cell_type": "code",
      "source": [
        "# Example\n",
        "a = [2, 5, 6, 7]\n",
        "\n",
        "# Use append() to add the element 9\n",
        "# to the end of the list\n",
        "a.append(9)\n",
        "print(a)"
      ],
      "metadata": {
        "colab": {
          "base_uri": "https://localhost:8080/"
        },
        "id": "ll07UhU9MJsH",
        "outputId": "07933e98-6895-4dfc-a9f2-f3c9e0b24587"
      },
      "execution_count": 28,
      "outputs": [
        {
          "output_type": "stream",
          "name": "stdout",
          "text": [
            "[2, 5, 6, 7, 9]\n"
          ]
        }
      ]
    },
    {
      "cell_type": "markdown",
      "source": [
        "### 2.Extend()\n",
        "- In Python, extend() method is used to add items from one list to the end of another list. This method modifies the original list by appending all items from the given iterable.\n",
        "- Using extend() method is easy and efficient way to merge two lists or add multiple elements at once."
      ],
      "metadata": {
        "id": "vn58fDFLMPiw"
      }
    },
    {
      "cell_type": "code",
      "source": [
        "# Example1\n",
        "a = [1, 2, 3]\n",
        "b = [4, 5]\n",
        "# Using extend() to add elements of b to a\n",
        "a.extend(b)\n",
        "print(a)"
      ],
      "metadata": {
        "colab": {
          "base_uri": "https://localhost:8080/"
        },
        "id": "XS345Y6UMKRW",
        "outputId": "e73c46b3-c807-43da-dfba-5706b6d90647"
      },
      "execution_count": 29,
      "outputs": [
        {
          "output_type": "stream",
          "name": "stdout",
          "text": [
            "[1, 2, 3, 4, 5]\n"
          ]
        }
      ]
    },
    {
      "cell_type": "code",
      "source": [
        "# Example2\n",
        "a = [1, 2, 3]\n",
        "b = [4, 5]\n",
        "# Using extend() to add elements of a to b\n",
        "b.extend(a)\n",
        "print(b)"
      ],
      "metadata": {
        "colab": {
          "base_uri": "https://localhost:8080/"
        },
        "id": "ILf6LXDsMTwT",
        "outputId": "1e697de4-9c9c-44f6-95bd-b72b1c98c31d"
      },
      "execution_count": 30,
      "outputs": [
        {
          "output_type": "stream",
          "name": "stdout",
          "text": [
            "[4, 5, 1, 2, 3]\n"
          ]
        }
      ]
    },
    {
      "cell_type": "markdown",
      "source": [
        "### 3.Pop()\n",
        "- The pop() method is used to remove an element from a list at a specified index and return that element.\n",
        "- If no index is provided, it will remove and return the last element by default.\n",
        "- This method is particularly useful when we need to manipulate a list dynamically, as it directly modifies the original list."
      ],
      "metadata": {
        "id": "zU_UNSNVMa-U"
      }
    },
    {
      "cell_type": "code",
      "source": [
        "# Example\n",
        "a = [10, 20, 30, 40]\n",
        "# Remove the last element from list\n",
        "a.pop()\n",
        "print(a)"
      ],
      "metadata": {
        "colab": {
          "base_uri": "https://localhost:8080/"
        },
        "id": "hkkcv5nFMX9E",
        "outputId": "41cb127d-5a50-43b3-fe3b-a5378b31243e"
      },
      "execution_count": 31,
      "outputs": [
        {
          "output_type": "stream",
          "name": "stdout",
          "text": [
            "[10, 20, 30]\n"
          ]
        }
      ]
    },
    {
      "cell_type": "markdown",
      "source": [
        "### 4.Remove()\n",
        "- Python list remove() function removes the first occurrence of a given item from list.\n",
        "- It make changes to the current list.\n",
        "- It only takes one argument, element we want to remove and if that element is not present in the list, it gives Value Error."
      ],
      "metadata": {
        "id": "YRgOArOiMhZx"
      }
    },
    {
      "cell_type": "code",
      "source": [
        "# Example\n",
        "a = ['A', 'B', 'C']\n",
        "a.remove(\"B\")\n",
        "print(a)"
      ],
      "metadata": {
        "colab": {
          "base_uri": "https://localhost:8080/"
        },
        "id": "ZZFAUrPCMepz",
        "outputId": "82caeb14-b593-4d47-c7b6-c0984ff58b1e"
      },
      "execution_count": 32,
      "outputs": [
        {
          "output_type": "stream",
          "name": "stdout",
          "text": [
            "['A', 'C']\n"
          ]
        }
      ]
    },
    {
      "cell_type": "markdown",
      "source": [
        "### 5.Count()\n",
        "- The count() method is used to find the number of times a specific element occurs in a list.\n",
        "- It is very useful in scenarios where we need to perform frequency analysis on the data."
      ],
      "metadata": {
        "id": "ObJZ_PNAMoTh"
      }
    },
    {
      "cell_type": "code",
      "source": [
        "# Example\n",
        "a = [1, 2, 3, 1, 2, 1, 4]\n",
        "# count given number in list\n",
        "c = a.count(1)\n",
        "print(c)"
      ],
      "metadata": {
        "colab": {
          "base_uri": "https://localhost:8080/"
        },
        "id": "EWmy4WcCMlGA",
        "outputId": "bde00336-ab7e-43a1-fe13-7f06b2e30161"
      },
      "execution_count": 33,
      "outputs": [
        {
          "output_type": "stream",
          "name": "stdout",
          "text": [
            "3\n"
          ]
        }
      ]
    },
    {
      "cell_type": "markdown",
      "source": [
        "### 6.Insert()\n",
        "- Python List insert() method inserts an item at a specific index in a list."
      ],
      "metadata": {
        "id": "J93vEqJSMvh-"
      }
    },
    {
      "cell_type": "code",
      "source": [
        "# Example\n",
        "# creating a list\n",
        "fruit = [\"banana\",\"cherry\",\"grape\"]\n",
        "fruit.insert(1,\"apple\")\n",
        "print(fruit)"
      ],
      "metadata": {
        "colab": {
          "base_uri": "https://localhost:8080/"
        },
        "id": "TAfkrK0AMriA",
        "outputId": "9fed24db-55a2-4886-8f57-eea1ccc8beb2"
      },
      "execution_count": 34,
      "outputs": [
        {
          "output_type": "stream",
          "name": "stdout",
          "text": [
            "['banana', 'apple', 'cherry', 'grape']\n"
          ]
        }
      ]
    },
    {
      "cell_type": "markdown",
      "source": [
        "### 7.Index()\n",
        "- Python list index() method searches for a given element from the start of the list and returns the position of the first occurrence."
      ],
      "metadata": {
        "id": "oVy0smK6M2J-"
      }
    },
    {
      "cell_type": "code",
      "source": [
        "# Example\n",
        "a = [\"cat\", \"dog\", \"tiger\"]\n",
        "print(a.index(\"dog\"))"
      ],
      "metadata": {
        "colab": {
          "base_uri": "https://localhost:8080/"
        },
        "id": "niulrTwSMzS-",
        "outputId": "30609cff-35ea-4b58-b528-03d1dad5d3cd"
      },
      "execution_count": 35,
      "outputs": [
        {
          "output_type": "stream",
          "name": "stdout",
          "text": [
            "1\n"
          ]
        }
      ]
    },
    {
      "cell_type": "code",
      "source": [],
      "metadata": {
        "id": "kdR7XIJiM6Eu"
      },
      "execution_count": null,
      "outputs": []
    }
  ]
}