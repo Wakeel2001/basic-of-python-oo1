{
  "nbformat": 4,
  "nbformat_minor": 0,
  "metadata": {
    "colab": {
      "provenance": []
    },
    "kernelspec": {
      "name": "python3",
      "display_name": "Python 3"
    },
    "language_info": {
      "name": "python"
    }
  },
  "cells": [
    {
      "cell_type": "code",
      "execution_count": null,
      "metadata": {
        "id": "Xif8KZ6Q_koW"
      },
      "outputs": [],
      "source": []
    },
    {
      "cell_type": "markdown",
      "source": [
        "#Explain about Data Types?\n",
        "- An attribute that identifies a piece of data and instructs a computer system on how to interpret its value is called a data type.\n",
        "\n",
        "- Python Data types are the classification or categorization of data items. It represents the kind of value that tells what operations can be performed on a particular data. Since everything is an object in Python programming, Python data types are classes and variables are instances (objects) of these classes.\n",
        "\n",
        "- In programming, data type is an important concept. Variables can store data of different types, and different types can do different things.\n",
        "\n",
        "- Variables and data types act as the backbone of any programming language.\n",
        "-  They play a crucial role in storing data and manipulating data,and they are fundamental building blocks for writing effective and efficient code.\n",
        "\n",
        " # There are two parts of Data types\n",
        "#Basic and Advanced\n",
        "---Basic Data Types---\n",
        "\n",
        "  1) integer 2)float 3)character 4)boolean 5)complex\n",
        "\n",
        "\n",
        "---Advance Data Type---\n",
        "\n",
        "1)list\n",
        " 2)tuple\n",
        "  3)strings\n",
        "     4)set\n",
        "       5)dictionaries\n",
        "\n",
        "#Integer(int)\n",
        "Integer(int) is a data type where we use for the numbers -ထ to 0 to ထ\n",
        "\n",
        "#example\n"
      ],
      "metadata": {
        "id": "bHLc2Fx5Au6z"
      }
    },
    {
      "cell_type": "code",
      "source": [
        "a=24\n",
        "b=-12\n",
        "c=0\n",
        "d=2*2\n",
        "e=3*3*3\n",
        "int=27\n",
        "age=25-2\n",
        "year=2025\n",
        "month=2\n",
        "z=-10+10\n",
        "print(a)\n",
        "print(b)\n",
        "print(c)\n",
        "print(d)\n",
        "print(e)\n",
        "print(int)\n",
        "print(age)\n",
        "print(year)\n",
        "print(month)\n",
        "print(z)"
      ],
      "metadata": {
        "colab": {
          "base_uri": "https://localhost:8080/"
        },
        "id": "hFWbvJxrDCXE",
        "outputId": "9f923a5c-6f14-4550-8b49-ba0b29c18552"
      },
      "execution_count": 3,
      "outputs": [
        {
          "output_type": "stream",
          "name": "stdout",
          "text": [
            "24\n",
            "-12\n",
            "0\n",
            "4\n",
            "27\n",
            "27\n",
            "23\n",
            "2025\n",
            "2\n",
            "0\n"
          ]
        }
      ]
    },
    {
      "cell_type": "markdown",
      "source": [
        "#Float\n",
        "-  Float is a function or reusable code in the Python programming language that converts values into floating point numbers. Floating point numbers are decimal values or fractional numbers like 133.5, 2897.11, and 3571.213, whereas real numbers like 56, 2, and 33 are called integers.\n",
        "\n",
        "- Float is used for the decimal numbers from -ve to +ve all decimal numbers.\n",
        "# example\n"
      ],
      "metadata": {
        "id": "2XztbwyoEz38"
      }
    },
    {
      "cell_type": "code",
      "source": [
        "a=2.34\n",
        "b=77.77\n",
        "c=33*2.2\n",
        "d=38+2.2\n",
        "e=59.99+0.1\n",
        "int=3.3\n",
        "age=23.6\n",
        "year=25/2\n",
        "month=2.2\n",
        "w=12.3*7+5-12\n",
        "print(a)\n",
        "print(b)\n",
        "print(c)\n",
        "print(d)\n",
        "print(e)\n",
        "print(int)\n",
        "print(age)\n",
        "print(year)\n",
        "print(year)\n",
        "print(month)\n",
        "print(w)"
      ],
      "metadata": {
        "colab": {
          "base_uri": "https://localhost:8080/"
        },
        "id": "gahJEC0fFxgM",
        "outputId": "5a0fae66-03c6-4adf-dd6d-fe4c4e89971d"
      },
      "execution_count": 4,
      "outputs": [
        {
          "output_type": "stream",
          "name": "stdout",
          "text": [
            "2.34\n",
            "77.77\n",
            "72.60000000000001\n",
            "40.2\n",
            "60.09\n",
            "3.3\n",
            "23.6\n",
            "12.5\n",
            "12.5\n",
            "2.2\n",
            "79.10000000000001\n"
          ]
        }
      ]
    },
    {
      "cell_type": "markdown",
      "source": [
        "#Character(char)\n",
        "- Character is used for the strings and letters (Alphabets).\n",
        "\n",
        "- we mention characters in (\"-\") or ('-').\n",
        "#example\n"
      ],
      "metadata": {
        "id": "ZwuyD9ClHnGL"
      }
    },
    {
      "cell_type": "code",
      "source": [
        "a=\"wakeel\"\n",
        "b='smart'\n",
        "c='teks'\n",
        "d=\"academy\"\n",
        "e='hello'\n",
        "month='feb'\n",
        "year='2025'\n",
        "work='8 hours'\n",
        "wakeel='ahmed'\n",
        "city='hyd'\n",
        "print(a)\n",
        "print(b)\n",
        "print(c)\n",
        "print(d)\n",
        "print(e)\n",
        "print(month)\n",
        "print(year)\n",
        "print(work)\n",
        "print(wakeel)\n",
        "print(city)"
      ],
      "metadata": {
        "colab": {
          "base_uri": "https://localhost:8080/"
        },
        "id": "36HJLjm1H1iL",
        "outputId": "0ffc7302-d972-4450-c9b3-062ed24e9443"
      },
      "execution_count": 6,
      "outputs": [
        {
          "output_type": "stream",
          "name": "stdout",
          "text": [
            "wakeel\n",
            "smart\n",
            "teks\n",
            "academy\n",
            "hello\n",
            "feb\n",
            "2025\n",
            "8 hours\n",
            "ahmed\n",
            "hyd\n"
          ]
        }
      ]
    },
    {
      "cell_type": "markdown",
      "source": [
        "#**Boolean**\n",
        "\n",
        "- Boolean is a binary answering data type.\n",
        "\n",
        "- Here we have only two outputs which are true and false."
      ],
      "metadata": {
        "id": "bWG8o9CoJlhj"
      }
    },
    {
      "cell_type": "code",
      "source": [
        "#example\n",
        "a=(3==3)\n",
        "b=(5<=4)\n",
        "c=(wakeel>=wakeel)\n",
        "d=(2.4>=2.4)\n",
        "e=(14,12>13,15)\n",
        "f=(35-4>=35.6)\n",
        "g=(20>+20)\n",
        "k=(23<23)\n",
        "w=(23<23)\n",
        "print(a)\n",
        "print(b)\n",
        "print(c)\n",
        "print(d)\n",
        "print(e)\n",
        "print(f)\n",
        "print(g)\n",
        "print(k)\n",
        "print(w)"
      ],
      "metadata": {
        "colab": {
          "base_uri": "https://localhost:8080/"
        },
        "id": "e85_B6SSJuXb",
        "outputId": "cfc9f718-0d6f-4da3-9fb6-99e91c99024a"
      },
      "execution_count": 10,
      "outputs": [
        {
          "output_type": "stream",
          "name": "stdout",
          "text": [
            "True\n",
            "False\n",
            "True\n",
            "True\n",
            "(14, False, 15)\n",
            "False\n",
            "False\n",
            "False\n",
            "False\n"
          ]
        }
      ]
    },
    {
      "cell_type": "markdown",
      "source": [
        "#**Complex**\n",
        "- Mix of real numbers & imaginary numbers. imaginary numbers are defined as (j)."
      ],
      "metadata": {
        "id": "uxLWXvwDMQ57"
      }
    },
    {
      "cell_type": "code",
      "source": [
        "#example\n",
        "a=23j\n",
        "b=22+5j\n",
        "c=22*5j\n",
        "d=34-44j\n",
        "e=55j+34j\n",
        "f=99j-88j\n",
        "year=2025-2020j\n",
        "month=02j*35\n",
        "work=25+26J\n",
        "print(a)\n",
        "print(b)\n",
        "print(c)\n",
        "print(d)\n",
        "print(e)\n",
        "print(f)\n",
        "print(year)\n",
        "print(month)\n",
        "print(work)"
      ],
      "metadata": {
        "colab": {
          "base_uri": "https://localhost:8080/"
        },
        "id": "oOJ_OxWwKk9L",
        "outputId": "7152a3ba-edd6-47d4-f77e-9355db2bff5e"
      },
      "execution_count": 11,
      "outputs": [
        {
          "output_type": "stream",
          "name": "stdout",
          "text": [
            "23j\n",
            "(22+5j)\n",
            "110j\n",
            "(34-44j)\n",
            "89j\n",
            "11j\n",
            "(2025-2020j)\n",
            "70j\n",
            "(25+26j)\n"
          ]
        }
      ]
    },
    {
      "cell_type": "markdown",
      "source": [
        "#**Type** function ()\n",
        "This type function is going to tell the data type of the particular data."
      ],
      "metadata": {
        "id": "y_7GmlnsOMuE"
      }
    },
    {
      "cell_type": "code",
      "source": [
        "print(type(10))\n",
        "print(type(-10))\n",
        "print(type(18.8))\n",
        "print(type(wakeel))\n",
        "print(type(10+10j))\n",
        "print(type(5j))\n",
        "print(type(10>10))\n",
        "print(type(12<12))\n"
      ],
      "metadata": {
        "colab": {
          "base_uri": "https://localhost:8080/"
        },
        "id": "-mjZxUWWN6Vs",
        "outputId": "1973c79a-54ae-4ba8-fd03-79010b4c06a2"
      },
      "execution_count": 14,
      "outputs": [
        {
          "output_type": "stream",
          "name": "stdout",
          "text": [
            "<class 'int'>\n",
            "<class 'int'>\n",
            "<class 'float'>\n",
            "<class 'str'>\n",
            "<class 'complex'>\n",
            "<class 'complex'>\n",
            "<class 'bool'>\n",
            "<class 'bool'>\n"
          ]
        }
      ]
    },
    {
      "cell_type": "code",
      "source": [],
      "metadata": {
        "id": "7LLhlygCP2Cc"
      },
      "execution_count": null,
      "outputs": []
    }
  ]
}