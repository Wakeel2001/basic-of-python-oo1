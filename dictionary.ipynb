{
  "nbformat": 4,
  "nbformat_minor": 0,
  "metadata": {
    "colab": {
      "provenance": []
    },
    "kernelspec": {
      "name": "python3",
      "display_name": "Python 3"
    },
    "language_info": {
      "name": "python"
    }
  },
  "cells": [
    {
      "cell_type": "markdown",
      "source": [
        "# Dictionary\n",
        "- A Python dictionary is a collection of items, similar to lists and tuples.\n",
        "- We create a dictionary by placing key: value pairs inside curly brackets {}, separated by commas."
      ],
      "metadata": {
        "id": "NjKI34GC84Aq"
      }
    },
    {
      "cell_type": "code",
      "source": [
        "# creating a dictionary\n",
        "country_capitals = {\n",
        "  \"Germany\": \"Berlin\",\n",
        "  \"Canada\": \"Ottawa\",\n",
        "  \"England\": \"London\"\n",
        "}\n",
        "# printing the dictionary\n",
        "print(country_capitals)"
      ],
      "metadata": {
        "colab": {
          "base_uri": "https://localhost:8080/"
        },
        "id": "cIyQP_U384vQ",
        "outputId": "9fa99294-8828-4d47-8089-e753b90ed53e"
      },
      "execution_count": 1,
      "outputs": [
        {
          "output_type": "stream",
          "name": "stdout",
          "text": [
            "{'Germany': 'Berlin', 'Canada': 'Ottawa', 'England': 'London'}\n"
          ]
        }
      ]
    },
    {
      "cell_type": "markdown",
      "source": [
        "##### 1.Get{} Method\n",
        "- The get() Method returns the value for the given key if present in the dictionary.\n",
        "-  If not, then it will return None (if get() is used with only one argument).\n",
        "# Example\n",
        "d = {'Odisha': 'Bhubaneswar', 'Telengana': 'Hyderabad'}\n",
        "print(d.get('Odisha'))"
      ],
      "metadata": {
        "id": "vtcV2Mp89h0Z"
      }
    },
    {
      "cell_type": "code",
      "source": [
        "# Example\n",
        "d = {'Odisha': 'Bhubaneswar', 'Telengana': 'Hyderabad'}\n",
        "print(d.get('Odisha'))"
      ],
      "metadata": {
        "colab": {
          "base_uri": "https://localhost:8080/"
        },
        "id": "Q9WYpve59P7D",
        "outputId": "5922f94c-16b2-4a43-da94-0819afe976ac"
      },
      "execution_count": 2,
      "outputs": [
        {
          "output_type": "stream",
          "name": "stdout",
          "text": [
            "Bhubaneswar\n"
          ]
        }
      ]
    },
    {
      "cell_type": "markdown",
      "source": [
        "##### 2.Key{} Method\n",
        "- keys() method in Python returns a view object displaying all the dictionary’s keys.\n",
        "- This view reflects changes made to the dictionary, meaning it updates automatically when the dictionary is modified.\n",
        "- keys() method is only available for dictionary objects. If called on a non-dictionary object, it will raise an AttributeError.\n",
        "e:"
      ],
      "metadata": {
        "id": "eJ9MJYMP9uMp"
      }
    },
    {
      "cell_type": "code",
      "source": [
        "# Example\n",
        "student = {'Rahul': '10th', 'Shila': '8th', 'Madhu': '6th'}\n",
        "# Using keys() to get all keys from the dictionary\n",
        "k = student.keys()\n",
        "\n",
        "print(k)"
      ],
      "metadata": {
        "colab": {
          "base_uri": "https://localhost:8080/"
        },
        "id": "wKIJVRIT9Xdw",
        "outputId": "23d6ae08-8584-4f83-ed39-95dc6278739a"
      },
      "execution_count": 3,
      "outputs": [
        {
          "output_type": "stream",
          "name": "stdout",
          "text": [
            "dict_keys(['Rahul', 'Shila', 'Madhu'])\n"
          ]
        }
      ]
    },
    {
      "cell_type": "markdown",
      "source": [
        "##### 3.Values{} Method\n",
        "- values() method in Python is used to obtain a view object that contains all the values in a dictionary.\n",
        "-  This view object is dynamic, meaning it updates automatically if the dictionary is modified.\n",
        "-  If we use the type() method on the return value, we get “dict_values object”.\n",
        "-   It must be cast to obtain the actual list."
      ],
      "metadata": {
        "id": "u2q_KIrN91Ig"
      }
    },
    {
      "cell_type": "code",
      "source": [
        "# Example\n",
        "d = {'A': 'Python', 'B': 'Java', 'C': 'C++'}\n",
        "# using values() to get all values\n",
        "v = d.values()\n",
        "\n",
        "print(v)"
      ],
      "metadata": {
        "colab": {
          "base_uri": "https://localhost:8080/"
        },
        "id": "vDo21quo9xbi",
        "outputId": "a09c0254-d5fa-47d0-8063-36b6dbf51289"
      },
      "execution_count": 4,
      "outputs": [
        {
          "output_type": "stream",
          "name": "stdout",
          "text": [
            "dict_values(['Python', 'Java', 'C++'])\n"
          ]
        }
      ]
    },
    {
      "cell_type": "markdown",
      "source": [
        "##### 4.Items{} Method\n",
        "- Items() method in Python returns a view object that contains all the key-value pairs in a dictionary as tuples.\n",
        "-  This view object updates dynamically if the dictionary is modified."
      ],
      "metadata": {
        "id": "D7fpNHv499sw"
      }
    },
    {
      "cell_type": "code",
      "source": [
        "# Example\n",
        "d = {'A': 'Python', 'B': 'Java', 'C': 'C++'}\n",
        "# using items() to get all key-value pairs\n",
        "items = d.items()\n",
        "\n",
        "print(items)"
      ],
      "metadata": {
        "colab": {
          "base_uri": "https://localhost:8080/"
        },
        "id": "P1j_gaXP96lQ",
        "outputId": "d5655c03-f5ce-4002-e5e8-f17d6489d515"
      },
      "execution_count": 5,
      "outputs": [
        {
          "output_type": "stream",
          "name": "stdout",
          "text": [
            "dict_items([('A', 'Python'), ('B', 'Java'), ('C', 'C++')])\n"
          ]
        }
      ]
    },
    {
      "cell_type": "markdown",
      "source": [
        "##### 5.Pop{} Method\n",
        "- Python dictionary pop() method removes and returns the specified element from the dictionary.\n"
      ],
      "metadata": {
        "id": "4F0SdQhO-GFw"
      }
    },
    {
      "cell_type": "code",
      "source": [
        "# Example\n",
        "# inializing dictionary student\n",
        "student = {\"Sneha\":7, \"Bhabya\":1, \"Himaja\":4}\n",
        "\n",
        "# priting original dictionary\n",
        "print(student)\n",
        "\n",
        "# using dictionary pop\n",
        "suspended = student.pop(\"Sneha\")\n",
        "\n",
        "# checking key of the element\n",
        "print(\"suspended student roll no. = \"+ str(suspended))\n",
        "\n",
        "# printing list after performing pop()\n",
        "print(\"remaining student\" + str(student))\n"
      ],
      "metadata": {
        "colab": {
          "base_uri": "https://localhost:8080/"
        },
        "id": "QqwGA3KR-ArQ",
        "outputId": "e48e6a48-736f-40a8-b9db-55c8d23bc4cb"
      },
      "execution_count": 6,
      "outputs": [
        {
          "output_type": "stream",
          "name": "stdout",
          "text": [
            "{'Sneha': 7, 'Bhabya': 1, 'Himaja': 4}\n",
            "suspended student roll no. = 7\n",
            "remaining student{'Bhabya': 1, 'Himaja': 4}\n"
          ]
        }
      ]
    },
    {
      "cell_type": "markdown",
      "source": [
        "##### 6.Popitem{} Method\n",
        "- Popitem() method in Python is used to remove and return the last key-value pair from the dictionary.\n",
        "-  It is often used when we want to remove a random element, particularly when the dictionary is not ordered."
      ],
      "metadata": {
        "id": "xvy60oMP-NXA"
      }
    },
    {
      "cell_type": "code",
      "source": [
        "# Example\n",
        "d= {1: '001', 2: '010', 3: '011'}\n",
        "# Using popitem() to remove and return the last item\n",
        "res = d.popitem()\n",
        "print(res)\n",
        "print(d)"
      ],
      "metadata": {
        "colab": {
          "base_uri": "https://localhost:8080/"
        },
        "id": "NMNG4NS3-JMw",
        "outputId": "22e13044-fe0d-48ac-e4d2-412b31ad3d6a"
      },
      "execution_count": 7,
      "outputs": [
        {
          "output_type": "stream",
          "name": "stdout",
          "text": [
            "(3, '011')\n",
            "{1: '001', 2: '010'}\n"
          ]
        }
      ]
    },
    {
      "cell_type": "markdown",
      "source": [
        "##### 7.Len{} Method\n",
        "- The Python dictionary len() method is used to retrieve the total length of the dictionary.\n",
        "- The total length means the number of items which is the key-value pairs in the dictionary.\n",
        "- The len() method returns the number of iterable items in the dictionary.\n",
        "- In python, a dictionary is a collection of key-value pairs.\n",
        "\n"
      ],
      "metadata": {
        "id": "KBAQ9FA8-S3g"
      }
    },
    {
      "cell_type": "code",
      "source": [
        "# Example\n",
        "d = {1: '001', 2: '010', 3: '011'}\n",
        "len(d)"
      ],
      "metadata": {
        "colab": {
          "base_uri": "https://localhost:8080/"
        },
        "id": "g4aeeneF-QMg",
        "outputId": "9a693ee3-bb25-41ee-9f73-65c0659308d4"
      },
      "execution_count": 8,
      "outputs": [
        {
          "output_type": "execute_result",
          "data": {
            "text/plain": [
              "3"
            ]
          },
          "metadata": {},
          "execution_count": 8
        }
      ]
    },
    {
      "cell_type": "code",
      "source": [
        "# Example\n",
        "# Update method\n",
        "emp1= {1: '001', 2: '010', 3: '011'}\n",
        "emp2 = {1: 'Python', 2: 'Java', 3: 'C++'}\n",
        "emp1=d.update(emp2)\n",
        "print(emp1)"
      ],
      "metadata": {
        "colab": {
          "base_uri": "https://localhost:8080/"
        },
        "id": "2HDkAw3U-WVg",
        "outputId": "c0683ac6-d55b-45a8-eae4-d6d075941915"
      },
      "execution_count": 9,
      "outputs": [
        {
          "output_type": "stream",
          "name": "stdout",
          "text": [
            "None\n"
          ]
        }
      ]
    },
    {
      "cell_type": "code",
      "source": [],
      "metadata": {
        "id": "dYKRiE7I-ajA"
      },
      "execution_count": null,
      "outputs": []
    }
  ]
}