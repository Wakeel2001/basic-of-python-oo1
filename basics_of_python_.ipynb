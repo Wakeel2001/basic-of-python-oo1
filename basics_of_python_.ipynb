{
  "nbformat": 4,
  "nbformat_minor": 0,
  "metadata": {
    "colab": {
      "provenance": []
    },
    "kernelspec": {
      "name": "python3",
      "display_name": "Python 3"
    },
    "language_info": {
      "name": "python"
    }
  },
  "cells": [
    {
      "cell_type": "code",
      "execution_count": null,
      "metadata": {
        "id": "8MjVHB952lOK"
      },
      "outputs": [],
      "source": []
    },
    {
      "cell_type": "markdown",
      "source": [],
      "metadata": {
        "id": "Xp_OeKmX3EUB"
      }
    },
    {
      "cell_type": "markdown",
      "source": [
        "# what is python ?\n",
        "- Python is an interpreted, general-purpose, high-level programming language known for its readability and simplicity.\n",
        "\n",
        "- Python is a programming language that is used to build software, websites, and analyze data.\n",
        "\n",
        "- Python is one of the most popular and open-source programming language in the world."
      ],
      "metadata": {
        "id": "L4ovv9912nCL"
      }
    },
    {
      "cell_type": "code",
      "source": [],
      "metadata": {
        "id": "MM6ay6qW4Jt6"
      },
      "execution_count": null,
      "outputs": []
    },
    {
      "cell_type": "markdown",
      "source": [
        "#Why Python?\n",
        "\n",
        "There are various reasons why Python.\n",
        "\n",
        "---> Simple:\n",
        "\n",
        "Python is a simple programming language. When we read a Python program, we feel like reading English sentences. It means more clarity and less stress on understanding the syntax of the language. Hence, developing and understanding programs will become easy.\n",
        "\n",
        "---> Easy to learn:\n",
        "\n",
        "Python uses very few keywords. Its programs use very simple structure. So, developing programs in Python become easy Also, Python resembles C language. Most of the language constructs in C are also available in Python Hence, migrating from C to Python is easy for programmers.\n",
        "\n",
        "---> Open source:\n",
        "\n",
        "There is no need to pay for Python software. Python can be freely downloaded from www.python.org website. Its source code can be read, modified and can be used in programs as desired by the programmers.\n",
        "\n",
        "---> High level language:\n",
        "\n",
        "Programming languages are of two types: -Low level language uses machine code instructions to develop programs. These instructions directly interact with the CPU. Machine language and assembly language are called low level languages. -High level languages use English words to develop programs. These are easy to learn and use.\n",
        "\n",
        "---> Dynamically typed:\n",
        "\n",
        "In Python, we need not declare anything. An assignment statement binds a name to an object, and the object can be of any type. If a name is assigned to an object of one type, it may later be assigned to an object of a different type. This is the meaning of the saying that Python is a dynamically typed language.\n",
        "\n",
        "---> Platform independent:\n",
        "\n",
        "When a Python program is compiled using a Python compiler, it generates byte code. Python's byte code represents a fixed set of instructions that run on all operating systems and hardware. Using a Python Virtual Machine (PVM), anybody can run these byte code instructions on any computer system. Hence, Python programs are not dependent on any specific operating system. We can use Python on almost all operating systems like UNIX, Linux, Windows,Macintosh, Solaris, OS/2, Amiga, AROS, AS/400, etc. This makes Python an ideal programming language for any network or Internet.\n",
        "\n",
        "---> Portable:\n",
        "\n",
        "When a program yields the same result on any computer in the world, then it is called a portable program. Python programs will give the same result since they are platform independent. Once a Python program is written, it can run on any computer system using PVM. However, Python also contains some system dependent modules, which are specific to operating system. Programmers should be careful about such code while developing the software if they want it to be completely portable.\n",
        "\n",
        "---> Procedure and object oriented:\n",
        "\n",
        "Python is a procedure oriented as well as an object oriented programming language. In procedure oriented programming languages, the programs are built using functions and procedures. But in object oriented languages, the programs use classes and objects."
      ],
      "metadata": {
        "id": "Cf_uWEYf4LQ6"
      }
    },
    {
      "cell_type": "code",
      "source": [],
      "metadata": {
        "id": "-w8CVxlJ4jhp"
      },
      "execution_count": null,
      "outputs": []
    },
    {
      "cell_type": "markdown",
      "source": [
        "#History of Python!\n",
        "\n",
        "- Guido van Rossum developed Python in the late 1980s and early 1990s.\n",
        "\n",
        "- He created it at the National Research Institute for Mathematics and Computer Science in the Netherlands.\n",
        "\n",
        "- Python was first released in 1991.\n",
        "\n",
        "- Python was named after the British television comedy show Monty Python's Flying Circus.\n",
        "\n",
        "- Van Rossum chose the name because he thought it was short, unique, and slightly mysterious.\n",
        "\n",
        "- Python was designed to be easy to use and fun.\n",
        "\n",
        "- It was developed to emphasize code readability.\n",
        "\n",
        "--> Development\n",
        "\n",
        "- Van Rossum developed Python as a hobby project during the Christmas season.\n",
        "\n",
        "- Van Rossum was the principal author of Python, but many other developers contributed to its development.\n",
        "\n",
        "- The Python Software Foundation (PSF) was formed in 2001 to own Python-related intellectual property.\n",
        "\n",
        "--> Major releases\n",
        "\n",
        "- Python 2.0 was released in 2000, and it added many new features, including list comprehensions and garbage collection. Python 3.0 was released in 2008, and it focused on removing redundant ways of doing things. Python 3.13 is the latest stable release.\n",
        "\n",
        "--> Uses\n",
        "\n",
        "- Python is used in many applications, including scientific computing, data analysis, web development, and artificial intelligence. It's also a popular language for machine learning."
      ],
      "metadata": {
        "id": "kzBVnixW4mAq"
      }
    },
    {
      "cell_type": "code",
      "source": [],
      "metadata": {
        "id": "6g2fndPQ5yQK"
      },
      "execution_count": null,
      "outputs": []
    },
    {
      "cell_type": "markdown",
      "source": [
        "#**Comments**\n",
        "--> Comments with example !\n",
        "\n",
        "- Comments in Python are the lines in the code that are ignored by the interpreter during the execution of the program.\n",
        "\n",
        "- Comments enhance the readability of the code.\n",
        "- Comment can be used to identify functionality or structure the code-base.\n",
        "- Comment can help understanding unusual or tricky scenarios handled by the code to prevent accidental removal or changes.\n",
        "- Comments can be used to prevent executing any specific part of your code, while making changes or testing.\n",
        "- 2type of comments. --> sinle-line comments. --> Multiline comments.\n",
        "\n",
        "\n",
        "#**EXAMPLE**\n",
        "#Comments starts with a #, and Python will ignore them:\n",
        "\n",
        "- This is single line comment.\n",
        "\n",
        " print(\"Python comments\")\n",
        "\n",
        "#Comments can be placed at the end of a line, and Python will ignore the rest of the line:\n",
        "print(\"Hello World\") #This is a comment.\n",
        "\n",
        "#We can multiple hashtags (#) to write multiline comments in Python. Each and every line will be considered as a single-line comment.\n",
        "\n",
        "#Python program to demonstrate\n",
        "multiline comments\n",
        "print(\"Multiline comments\")#Multiline comments\n",
        "\n",
        "#Keywords with example !\n",
        "- Python Keywords are some predefined and reserved words in Python that have special meanings.Keywords are used to define the syntax of the coding. The keyword cannot be used as an identifier, function, or variable name.All the keywords in Python are written in lowercase except True and False.\n",
        "\n",
        "#code\n",
        "\n",
        "import keyword print(keyword.kwlist)\n",
        "\n",
        "#Rules\n",
        "\n",
        "Python has rules for syntax, indentation, and best practices for code quality. It can be a comination of alphabet.\n",
        "\n",
        "#Syntax rules\n",
        "\n",
        "--> Variables: Python variables can hold both numbers and text. --> Indentation: Python uses indentation to group statements and define scope. You can use spaces or tabs to indent. --> Case sensitivity: Python is case-sensitive, so \"myvariable\" is different from \"MyVariable\". --> Variable naming: You can't use Python keywords as variable names, and you can't have spaces in variable names. The first character of a variable must be a letter or underscore.\n",
        "\n",
        "#Variables\n",
        "- Variable is a reserve memory location where we can store value.\n",
        "\n",
        "- Python variables can hold both numbers and text.\n",
        "\n",
        "- Python defines four types of variables: local, global, instance, and class variables.\n",
        "\n",
        "- Local variables are created within functions and can only be accessed there.\n",
        "\n",
        "- Global variables are defined outside of any function and can be used throughout the program.\n",
        "\n",
        "- Python has three numeric data types: float, integer, and complex.\n",
        "\n",
        "- Float stores decimal numbers, integers can store whole numbers, and complex is for storing complex numbers.\n",
        "#10 Valid variable example.\n",
        "myage=\"24\"\n",
        "my_class=\"9\"\n",
        " _room_temp=\"45\" bookPrice=\"235\" book2=\"265\" DISTANCE=\"1.5\" my_marks=\"7.9\" _my_hight=\"5.3\" myWeight=\"55.5\" apple1kg=\"145.6\" print(myage) print(my_class) print(_room_temp) print(bookPrice) print(book2) print(DISTANCE) print(my_marks) print(_my_hight) print(myWeight) print(apple1kg)\n",
        "#10 Invalid variable example\n",
        "2kgapple=\"245\" my-age=\"24\" my weight=45.5 4_5=6 000= 100 5class=\"34\" 1st_class=9 007XUV=\"1800000\" India score=246 print(2kgapple) print(my-age) print(my weight) print(4_5) print(000) print(5class) print(1st_class) print(007XUV) print(India score)"
      ],
      "metadata": {
        "id": "5859YANr5ytS"
      }
    },
    {
      "cell_type": "code",
      "source": [],
      "metadata": {
        "id": "za2Y747A8626"
      },
      "execution_count": null,
      "outputs": []
    },
    {
      "cell_type": "markdown",
      "source": [
        "#key words of python with example\n",
        "Python keywords are predefined words that have special meanings and are used in the syntax of the language.\n",
        "\n",
        "#Examples of Python keywords\n",
        "- def: Used to define a function\n",
        "- yield: Returns a list of values from a function\n",
        "- nonlocal: Modifies variables from an outer scope\n",
        "- None: Defines a null value\n",
        "- elif: Checks for multiple conditions in conditional statements\n",
        "- class: Defines a new class, which is a blueprint for creating objects\n",
        "- lambda: Defines an anonymous function\n",
        "- else: Used with loops or conditional if statements\n",
        "- pass: Used as a placeholder for future code\n",
        "- True: Used to represent truth values\n",
        "- False: Used to represent truth values\n",
        "- in: Used to check if a value is present in a sequence\n",
        "- or: A logical operator that combines conditional statements"
      ],
      "metadata": {
        "id": "kvMJu4RB87vU"
      }
    },
    {
      "cell_type": "code",
      "source": [],
      "metadata": {
        "id": "UEqf3iBG9l4Z"
      },
      "execution_count": null,
      "outputs": []
    }
  ]
}